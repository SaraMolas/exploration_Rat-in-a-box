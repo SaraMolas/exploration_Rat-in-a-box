{
 "cells": [
  {
   "cell_type": "code",
   "execution_count": 2,
   "id": "759471cb",
   "metadata": {},
   "outputs": [],
   "source": [
    "import sys\n",
    "from pathlib import Path\n",
    "\n",
    "repo_path = Path(\"..\") / \"..\"/\"RatInABox\"  # relative path of RatInABox repo from the notebook\n",
    "sys.path.insert(0, str(repo_path.resolve()))\n",
    "\n",
    "import ratinabox\n",
    "\n",
    "from ratinabox.Environment import Environment\n",
    "from ratinabox.Agent import Agent\n",
    "from ratinabox.Neurons import *\n",
    "from tqdm.notebook import tqdm  # gives time bar\n",
    "\n",
    "#stylize plots and set figure directory for saving \n",
    "ratinabox.stylize_plots(); ratinabox.autosave_plots=True; ratinabox.figure_directory=\"../figures/\""
   ]
  },
  {
   "cell_type": "code",
   "execution_count": null,
   "id": "80b7af08",
   "metadata": {},
   "outputs": [],
   "source": []
  },
  {
   "cell_type": "code",
   "execution_count": null,
   "id": "d58e2833",
   "metadata": {},
   "outputs": [],
   "source": [
    "# 1 Initialise environment.\n",
    "Env = Environment(params={\"aspect\": 2, \"scale\": 1})\n",
    "\n",
    "# 2 Add walls.\n",
    "Env.add_wall([[1, 0], [1, 0.35]])\n",
    "Env.add_wall([[1, 0.65], [1, 1]])\n",
    "\n",
    "# 3 Add Agent.\n",
    "Ag = Agent(Env)\n",
    "Ag.pos = np.array([0.5, 0.5])\n",
    "Ag.speed_mean = 0.2\n",
    "\n",
    "# 4 Add place cells.\n",
    "PCs = PlaceCells(\n",
    "    Ag,\n",
    "    params={\n",
    "        \"n\": 100,\n",
    "        \"description\": \"gaussian_threshold\",\n",
    "        \"widths\": 0.40,\n",
    "        \"wall_geometry\": \"line_of_sight\",\n",
    "        \"max_fr\": 10,\n",
    "        \"min_fr\": 0.1,\n",
    "        \"color\": \"C1\",\n",
    "    },\n",
    ")\n",
    "PCs.place_cell_centres[-1] = np.array([1.1, 0.5])\n",
    "\n",
    "# 5 Add boundary vector cells.\n",
    "BVCs = BoundaryVectorCells(Ag, params={\"n\": 30, \"color\": \"C2\"})\n",
    "\n",
    "# 6 Simulate.\n",
    "dt = 50e-3\n",
    "T = 5 * 60 #5 mins  \n",
    "\n",
    "for i in tqdm(range(int(T / dt))):\n",
    "    Ag.update(dt=dt)\n",
    "    PCs.update()\n",
    "    BVCs.update()\n"
   ]
  },
  {
   "cell_type": "code",
   "execution_count": null,
   "id": "167a83d1",
   "metadata": {},
   "outputs": [],
   "source": [
    "import pandas as pd"
   ]
  },
  {
   "cell_type": "code",
   "execution_count": null,
   "id": "9049d5c1",
   "metadata": {},
   "outputs": [],
   "source": [
    "# Export data into a dataframe \n",
    "pd.DataFrame(Ag.history)"
   ]
  },
  {
   "cell_type": "code",
   "execution_count": null,
   "id": "f7c81b9a",
   "metadata": {},
   "outputs": [],
   "source": [
    "\n",
    "# 7 Plot trajectory.\n",
    "fig, ax = Ag.plot_position_heatmap()\n",
    "fig, ax = Ag.plot_trajectory(t_start=Ag.t-30, fig=fig, ax=ax,color=\"changing\")"
   ]
  },
  {
   "cell_type": "code",
   "execution_count": null,
   "id": "14cc80fe",
   "metadata": {},
   "outputs": [],
   "source": [
    "# 8 Plot timeseries.\n",
    "fig, ax = BVCs.plot_rate_timeseries(\n",
    "    t_start=0, t_end=60, chosen_neurons=\"12\", spikes=True\n",
    ")"
   ]
  },
  {
   "cell_type": "code",
   "execution_count": null,
   "id": "ae60a1fb",
   "metadata": {},
   "outputs": [],
   "source": [
    "# 9 Plot place cell locations.\n",
    "fig, ax = PCs.plot_place_cell_locations()\n",
    "\n",
    "# 10 Plot rate maps (first analytically, second using bin exploration data, third using observed spikes ) .\n",
    "fig, ax = PCs.plot_rate_map(chosen_neurons=\"3\", method=\"groundtruth\")\n",
    "fig, ax = PCs.plot_rate_map(chosen_neurons=\"3\", method=\"history\")\n",
    "fig, ax = PCs.plot_rate_map(chosen_neurons=\"3\", method=\"neither\", spikes=True)"
   ]
  }
 ],
 "metadata": {
  "kernelspec": {
   "display_name": "base",
   "language": "python",
   "name": "python3"
  },
  "language_info": {
   "codemirror_mode": {
    "name": "ipython",
    "version": 3
   },
   "file_extension": ".py",
   "mimetype": "text/x-python",
   "name": "python",
   "nbconvert_exporter": "python",
   "pygments_lexer": "ipython3",
   "version": "3.7.6"
  }
 },
 "nbformat": 4,
 "nbformat_minor": 5
}
